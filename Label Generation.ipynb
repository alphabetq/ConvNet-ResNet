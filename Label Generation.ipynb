{
 "cells": [
  {
   "cell_type": "code",
   "execution_count": 1,
   "metadata": {},
   "outputs": [],
   "source": [
    "import os\n",
    "import pandas as pd\n",
    "from sklearn.model_selection import train_test_split"
   ]
  },
  {
   "cell_type": "code",
   "execution_count": null,
   "metadata": {},
   "outputs": [],
   "source": [
    "mypath=\"C:/example-folder-path\"\n",
    "image_name_list=[]\n",
    "class_name_list=[]\n",
    "image_name_list2=[]\n",
    "class_name_list2=[]\n",
    "for root, dirs, files in os.walk(mypath):\n",
    "    for file in files:\n",
    "        if file.endswith(\"db\"):\n",
    "            None\n",
    "        else:\n",
    "            d=root.split('/')\n",
    "            if any(\"passed\" in s for s in d):\n",
    "                if 'test' in file:\n",
    "                    image_name_list.append(root+\"/\"+file)\n",
    "                    class_name_list.append(1)\n",
    "                else:\n",
    "                    image_name_list2.append(root+\"/\"+file)\n",
    "                    class_name_list2.append(1)\n",
    "            elif any(\"failed\" in s for s in d):\n",
    "                if 'test' in file:\n",
    "                    image_name_list.append(root+\"/\"+file)\n",
    "                    class_name_list.append(0)\n",
    "                else:\n",
    "                    image_name_list2.append(root+\"/\"+file)\n",
    "                    class_name_list2.append(0)\n",
    "df=pd.DataFrame({\"data\":image_name_list, \"label\":class_name_list})\n",
    "print(len(df[df[\"label\"]==1]))\n",
    "print(len(df[df[\"label\"]==0]))\n",
    "\n",
    "df2=pd.DataFrame({\"data\":image_name_list2, \"label\":class_name_list2})\n",
    "print(len(df2[df2[\"label\"]==1]))\n",
    "print(len(df2[df2[\"label\"]==0]))"
   ]
  },
  {
   "cell_type": "code",
   "execution_count": null,
   "metadata": {},
   "outputs": [],
   "source": [
    "X=df[\"data\"]\n",
    "y=df[\"label\"]\n",
    "X_train, X_test, y_train, y_test = train_test_split(X, y, test_size=0.2, stratify=y)\n",
    "train_data=pd.DataFrame({\"data\":X_train, \"label\":y_train})\n",
    "test_data=pd.DataFrame({\"data\":X_test, \"label\":y_test})\n",
    "print(train_data)\n",
    "print(test_data)\n",
    "\n",
    "X2=df2[\"data\"]\n",
    "y2=df2[\"label\"]\n",
    "X_train2, X_test2, y_train2, y_test2 = train_test_split(X2, y2, test_size=0.2, stratify=y2)\n",
    "train_data2=pd.DataFrame({\"data\":X_train2, \"label\":y_train2})\n",
    "test_data2=pd.DataFrame({\"data\":X_test2, \"label\":y_test2})\n",
    "print(train_data2)\n",
    "print(test_data2)"
   ]
  },
  {
   "cell_type": "code",
   "execution_count": 7,
   "metadata": {},
   "outputs": [],
   "source": [
    "train_data.to_csv(\"C:/example.csv\", index=False)\n",
    "test_data.to_csv(\"C:/example.csv\", index=False)\n",
    "\n",
    "train_data2.to_csv(\"C:/example2.csv\", index=False)\n",
    "test_data2.to_csv(\"C:/example2.csv\", index=False)"
   ]
  },
  {
   "cell_type": "code",
   "execution_count": null,
   "metadata": {},
   "outputs": [],
   "source": [
    "import pandas\n",
    "from sklearn.model_selection import KFold\n",
    "from sklearn.preprocessing import MinMaxScaler\n",
    "from sklearn.svm import SVR\n",
    "import numpy as np\n",
    "\n",
    "scores = []\n",
    "best_svr = SVR(kernel='rbf')\n",
    "cv = KFold(n_splits=10, random_state=42, shuffle=False)\n",
    "for train_index, test_index in cv.split(X):\n",
    "    print(\"Train Index: \" + \"(\" + str(len(train_index)) + \"images)\", train_index, \"\\n\")\n",
    "    print(\"Test Index: \" + \"(\" + str(len(test_index)) + \"images)\", test_index)\n",
    "\n",
    "    X_train, X_test, y_train, y_test = X[train_index], X[test_index], y[train_index], y[test_index]\n"
   ]
  },
  {
   "cell_type": "code",
   "execution_count": null,
   "metadata": {},
   "outputs": [],
   "source": [
    "\n",
    "print(test_index[10])\n",
    "print(len(test_index))"
   ]
  },
  {
   "cell_type": "code",
   "execution_count": null,
   "metadata": {},
   "outputs": [],
   "source": [
    "print(image_name_list[1])"
   ]
  },
  {
   "cell_type": "code",
   "execution_count": null,
   "metadata": {},
   "outputs": [],
   "source": []
  }
 ],
 "metadata": {
  "kernelspec": {
   "display_name": "Python 3",
   "language": "python",
   "name": "python3"
  },
  "language_info": {
   "codemirror_mode": {
    "name": "ipython",
    "version": 3
   },
   "file_extension": ".py",
   "mimetype": "text/x-python",
   "name": "python",
   "nbconvert_exporter": "python",
   "pygments_lexer": "ipython3",
   "version": "3.7.3"
  }
 },
 "nbformat": 4,
 "nbformat_minor": 2
}
